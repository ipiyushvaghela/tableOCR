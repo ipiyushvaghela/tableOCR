{
  "nbformat": 4,
  "nbformat_minor": 0,
  "metadata": {
    "colab": {
      "provenance": []
    },
    "kernelspec": {
      "name": "python3",
      "display_name": "Python 3"
    },
    "language_info": {
      "name": "python"
    }
  },
  "cells": [
    {
      "cell_type": "code",
      "source": [
        "!sudo apt install tesseract-ocr\n",
        "!pip install pytesseract"
      ],
      "metadata": {
        "id": "IroZRbmJ-JIe"
      },
      "execution_count": null,
      "outputs": []
    },
    {
      "cell_type": "code",
      "execution_count": 19,
      "metadata": {
        "id": "SK_SRdtp9r9N"
      },
      "outputs": [],
      "source": [
        "import cv2\n",
        "import numpy as np\n",
        "import pandas as pd\n",
        "import time\n",
        "try:\n",
        "    from PIL import Image\n",
        "except ImportError:\n",
        "    import Image\n",
        "# import pytesseract\n",
        "import os"
      ]
    },
    {
      "cell_type": "code",
      "source": [
        "def read_img(path):\n",
        "  img = cv2.imread(path,0)\n",
        "  return img"
      ],
      "metadata": {
        "id": "nkLNGfJs-Puj"
      },
      "execution_count": 20,
      "outputs": []
    },
    {
      "cell_type": "code",
      "source": [
        "def sort_contours(cnts, method=\"left-to-right\"):\n",
        "    # initialize the reverse flag and sort index\n",
        "    reverse = False\n",
        "    i = 0\n",
        "    # handle if we need to sort in reverse\n",
        "    if method == \"right-to-left\" or method == \"bottom-to-top\":\n",
        "        reverse = True\n",
        "    # handle if we are sorting against the y-coordinate rather than\n",
        "    # the x-coordinate of the bounding box\n",
        "    if method == \"top-to-bottom\" or method == \"bottom-to-top\":\n",
        "        i = 1\n",
        "    # construct the list of bounding boxes and sort them from top to\n",
        "    # bottom\n",
        "    boundingBoxes = [cv2.boundingRect(c) for c in cnts]\n",
        "    (cnts, boundingBoxes) = zip(*sorted(zip(cnts, boundingBoxes),\n",
        "    key=lambda b:b[1][i], reverse=reverse))\n",
        "    # return the list of sorted contours and bounding boxes\n",
        "    return (cnts, boundingBoxes)"
      ],
      "metadata": {
        "id": "qygE8edy_BwJ"
      },
      "execution_count": 21,
      "outputs": []
    },
    {
      "cell_type": "code",
      "source": [
        "## To Detect biggest outer box\n",
        "def imgtocontours(img):\n",
        "    #thresholding the image to a binary image\n",
        "    thresh,img_bin = cv2.threshold(img,128,255,cv2.THRESH_BINARY | cv2.THRESH_OTSU)\n",
        "    #inverting the image \n",
        "    img_bin = 255-img_bin\n",
        "\n",
        "    # countcol(width) of kernel as 100th of total width\n",
        "    kernel_len = np.array(img).shape[1]//100\n",
        "    # Defining a vertical kernel to detect all vertical lines of image \n",
        "    ver_kernel = cv2.getStructuringElement(cv2.MORPH_RECT, (1, kernel_len))\n",
        "    # Defining a horizontal kernel to detect all horizontal lines of image\n",
        "    hor_kernel = cv2.getStructuringElement(cv2.MORPH_RECT, (kernel_len, 1))\n",
        "    kernel = cv2.getStructuringElement(cv2.MORPH_RECT, (2, 2))\n",
        "\n",
        "    #Use vertical kernel to detect and save the vertical lines in a jpg\n",
        "    image_1 = cv2.erode(img_bin, ver_kernel, iterations=3)\n",
        "    vertical_lines = cv2.dilate(image_1, ver_kernel, iterations=3)\n",
        "\n",
        "    #Use horizontal kernel to detect and save the horizontal lines in a jpg\n",
        "    image_2 = cv2.erode(img_bin, hor_kernel, iterations=3)\n",
        "    horizontal_lines = cv2.dilate(image_2, hor_kernel, iterations=3)\n",
        "\n",
        "    # Combine horizontal and vertical lines in a new third image, with both having same weight.\n",
        "    img_vh = cv2.addWeighted(vertical_lines, 0.5, horizontal_lines, 0.5, 0.0)\n",
        "    #Eroding and thesholding the image\n",
        "    img_vh = cv2.erode(~img_vh, kernel, iterations=2)\n",
        "    thresh, img_vh = cv2.threshold(img_vh,128,255, cv2.THRESH_BINARY | cv2.THRESH_OTSU)\n",
        "\n",
        "    bitxor = cv2.bitwise_xor(img,img_vh)\n",
        "    bitnot = cv2.bitwise_not(bitxor)\n",
        "\n",
        "    # Detect contours for following box detection\n",
        "    contours, hierarchy = cv2.findContours(img_vh, cv2.RETR_TREE, cv2.CHAIN_APPROX_SIMPLE)\n",
        "    # Sort all the contours by top to bottom.\n",
        "    contours, boundingBoxes = sort_contours(contours, method=\"top-to-bottom\")\n",
        "    #Creating a list of heights for all detected boxes\n",
        "    heights = [boundingBoxes[i][3] for i in range(len(boundingBoxes))]\n",
        "    #Get mean of heights\n",
        "    mean = np.mean(heights)\n",
        "    \n",
        "    return contours,mean,bitnot"
      ],
      "metadata": {
        "id": "2Rfi7127-23l"
      },
      "execution_count": 22,
      "outputs": []
    },
    {
      "cell_type": "code",
      "source": [
        "def store_boxes(contours,img):\n",
        "  #Create list bigBox to store all boxes in  \n",
        "  bigBox = []\n",
        "  # Get position (x,y), width and height for every contour and show the contour on image\n",
        "  for c in contours:\n",
        "      x, y, w, h = cv2.boundingRect(c)\n",
        "      if (w>200 and h>200):\n",
        "          bigBox.append([x,y,w,h])\n",
        "\n",
        "  bigBox = bigBox[-1]\n",
        "  providedCropedImage = False\n",
        "  if (img.shape[0] - bigBox[-1]) < 10 :\n",
        "      providedCropedImage = True \n",
        "      \n",
        "  return providedCropedImage,bigBox"
      ],
      "metadata": {
        "id": "U_X01pT0_Re7"
      },
      "execution_count": 23,
      "outputs": []
    },
    {
      "cell_type": "code",
      "source": [
        "## detect boxes and get size of ractangle which we have to create\n",
        "def crop_image(bigBox,img):\n",
        "  x,y,xe,ye = bigBox\n",
        "  xe = xe+x\n",
        "  ye = ye+y\n",
        "  h = img.shape[0]\n",
        "  w = img.shape[1]\n",
        "  img = img[y+27+2:ye,x+123:xe-2]\n",
        "  return img"
      ],
      "metadata": {
        "id": "Yf_48XYu_hAj"
      },
      "execution_count": 24,
      "outputs": []
    },
    {
      "cell_type": "code",
      "source": [
        "def store_blackbox(contours):\n",
        "  box = []\n",
        "  flag = False\n",
        "  countCols = 2\n",
        "  firstcolcheck=True\n",
        "  blackBox = [] # will get all the dimensions of continuous blackbox\n",
        "\n",
        "  # Get position (x,y), width and height for every contour and show the contour on image\n",
        "  for c in contours:\n",
        "      x, y, w, h = cv2.boundingRect(c)\n",
        "      if (w<1000 and h<500):\n",
        "          box.append([x,y,w,h])\n",
        "\n",
        "          cellWidth = box[-1][2]\n",
        "          cellHeight= box[-1][3]\n",
        "\n",
        "          if len(box)>2:\n",
        "              px = box[-2][0]\n",
        "              if firstcolcheck :\n",
        "                  if box[-2][2] == box[-1][2]:\n",
        "                      countCols += 1\n",
        "                  else:\n",
        "                      countCols = (3*countCols +1)\n",
        "                      COUNTCOLS = countCols\n",
        "                      firstcolcheck = False\n",
        "                      \n",
        "              if not firstcolcheck:\n",
        "                  countCols -= 1 \n",
        "\n",
        "              xdiff = px - x\n",
        "              if (x+box[-2][2]-5)<px<(x+box[2][2]+5):\n",
        "                  pass\n",
        "              elif (x+w) > 10 & xdiff != 104 and xdiff>10 and x>10 and px >10 and xdiff>10:\n",
        "                  if countCols < 0 and box[-1][2] == (box[-2][2]+3):\n",
        "                      leftPoint = (x+w)\n",
        "                      rightPoint = px - 4 - 3 \n",
        "                      distanceFromTop = y - 1\n",
        "                      cellW = box[-2][2] + 3 +3\n",
        "\n",
        "                  else:\n",
        "                      leftPoint = (x+w)\n",
        "                      rightPoint = px - 4\n",
        "                      distanceFromTop = y - 1\n",
        "                      cellW = box[-2][2] + 3\n",
        "\n",
        "                  cellH = box[-2][3] + 3\n",
        "                  xs = leftPoint\n",
        "                  rxe = rightPoint\n",
        "                  ys = distanceFromTop\n",
        "                  blackBox.append((xs,rxe,ys,cellW,cellH))\n",
        "              if countCols < 0 and box[-1][2]>75:\n",
        "                  break\n",
        "  return blackBox"
      ],
      "metadata": {
        "id": "zuOMdFrq_wxd"
      },
      "execution_count": 25,
      "outputs": []
    },
    {
      "cell_type": "code",
      "source": [
        "def drawrectangles(img,xs,ys,xe,ye,rxe,rye,rows,columns,cellW,cellH,providedCropedImage):\n",
        "\n",
        "    img = cv2.rectangle(img, (xs+1,ys-1), (rxe,rye), (255,255,255),-1 ) # to create big white box in place of black box\n",
        "    xs = xs\n",
        "    ys = ys - 2 \n",
        "    ye = ye - 2 # to create perfect square\n",
        "    flag = False\n",
        "    orgys = ys\n",
        "\n",
        "    if providedCropedImage:\n",
        "        for i in range(rows):\n",
        "            nxs = xs + (i)*cellW\n",
        "            nxe = xe + i*cellW\n",
        "            ys = orgys\n",
        "            for j in range(columns):\n",
        "                nys = ys + j*cellH\n",
        "                img = cv2.rectangle(img, (nxs,nys), (nxe,ye), (0,0,0), 1)\n",
        "    else:\n",
        "\n",
        "        for i in range(rows):\n",
        "            nxs = xs + (i)*cellW\n",
        "            nxe = xe + i*cellW\n",
        "            ys = orgys\n",
        "            if flag:\n",
        "                ys = orgys\n",
        "            for j in range(columns):\n",
        "                if j%5 == 0 and j!=0:\n",
        "                    ys = ys-1\n",
        "                    flag = True\n",
        "                nys = ys + j*cellH\n",
        "                img = cv2.rectangle(img, (nxs,nys), (nxe,ye), (0,0,0), 1)\n",
        "    return img"
      ],
      "metadata": {
        "id": "2AgBTVhbAGcJ"
      },
      "execution_count": 26,
      "outputs": []
    },
    {
      "cell_type": "code",
      "source": [
        "def whitebox(blackBox,img,providedCropedImage):\n",
        "  for box in blackBox:\n",
        "    xs,rxe,ys,cellW,cellH = box\n",
        "    h,w = img.shape\n",
        "    rye = h - 4\n",
        "    xe = xs+(cellW)\n",
        "    ye = ys+(cellH)\n",
        "    rows = (rxe-xs)//(cellW-1)\n",
        "    columns = (rye-ys)//(cellH-1)\n",
        "\n",
        "    img = drawrectangles(img,xs,ys,xe,ye,rxe,rye,rows,columns,cellW,cellH,providedCropedImage)\n",
        "  return img"
      ],
      "metadata": {
        "id": "5m0q8AeIAOSB"
      },
      "execution_count": 27,
      "outputs": []
    },
    {
      "cell_type": "code",
      "source": [
        "def store(contours,img,mean):\n",
        "  box = []\n",
        "  # Get position (x,y), width and height for every contour and show the contour on image\n",
        "  for c in contours:\n",
        "      x, y, w, h = cv2.boundingRect(c)\n",
        "      if (w<1000 and h<500):\n",
        "          image = cv2.rectangle(img,(x,y),(x+w,y+h),(0,255,0),2)\n",
        "          box.append([x,y,w,h])\n",
        "\n",
        "  # Create lists to store cell location \n",
        "  row=[]\n",
        "  column=[]\n",
        "  j=0\n",
        "\n",
        "  # Sorting the boxes to their respective row and column\n",
        "  for i in range(len(box)):    \n",
        "          \n",
        "      if(i==0):\n",
        "          column.append(box[i])\n",
        "          previous=box[i]    \n",
        "      else:\n",
        "          if(box[i][1]<=previous[1]+mean/2):\n",
        "              column.append(box[i])\n",
        "              previous=box[i]            \n",
        "              \n",
        "              if(i==len(box)-1):\n",
        "                  row.append(column)        \n",
        "          else:\n",
        "              row.append(column)\n",
        "              column=[]\n",
        "              previous = box[i]\n",
        "              column.append(box[i])\n",
        "\n",
        "  # calculating maximum number of cells\n",
        "  countcol = 0\n",
        "  for i in range(len(row)):\n",
        "      countcol = len(row[i])\n",
        "      if countcol > countcol:\n",
        "          countcol = countcol\n",
        "\n",
        "  #Retrieving the center of each column\n",
        "  center = [int(row[i][j][0]+row[i][j][2]/2) for j in range(len(row[i])) if row[0]]\n",
        "\n",
        "  center=np.array(center)\n",
        "  center.sort()\n",
        "\n",
        "  # Regarding the distance to the columns center, the boxes are arranged in respective order\n",
        "\n",
        "  finalboxes = []\n",
        "  for i in range(len(row)):\n",
        "      lis=[]\n",
        "      for k in range(countcol):\n",
        "          lis.append([])\n",
        "      for j in range(len(row[i])):\n",
        "          diff = abs(center-(row[i][j][0]+row[i][j][2]/4))\n",
        "          minimum = min(diff)\n",
        "          indexing = list(diff).index(minimum)\n",
        "          lis[indexing].append(row[i][j])\n",
        "      finalboxes.append(lis)\n",
        "\n",
        "  return finalboxes,row,countcol\n"
      ],
      "metadata": {
        "id": "z3Fgl4qvAaAT"
      },
      "execution_count": 28,
      "outputs": []
    },
    {
      "cell_type": "code",
      "source": [
        "def extract_text(finalboxes,bitnot):\n",
        "  outer=[]\n",
        "  for i in range(len(finalboxes)):\n",
        "      for j in range(len(finalboxes[i])):\n",
        "          inner=''\n",
        "          if(len(finalboxes[i][j])==0):\n",
        "              outer.append(' ')\n",
        "          else:\n",
        "              for k in range(len(finalboxes[i][j])):\n",
        "                  y,x,w,h = finalboxes[i][j][k][0],finalboxes[i][j][k][1], finalboxes[i][j][k][2],finalboxes[i][j][k][3]\n",
        "                  finalimg = bitnot[x:x+h, y:y+w]\n",
        "                  kernel = cv2.getStructuringElement(cv2.MORPH_RECT, (2, 1))\n",
        "                  border = cv2.copyMakeBorder(finalimg,2,2,2,2, cv2.BORDER_CONSTANT,value=[255,255])\n",
        "                  resizing = cv2.resize(border, None, fx=2, fy=2, interpolation=cv2.INTER_CUBIC)\n",
        "                  dilation = cv2.dilate(resizing, kernel,iterations=1)\n",
        "                  erosion = cv2.erode(dilation, kernel,iterations=2)\n",
        "                  # im_pil = Image.fromarray(erosion)\n",
        "                  # out = tesserocr.image_to_text(im_pil)\n",
        "                  # print(out)\n",
        "                  \n",
        "                  out = pytesseract.image_to_string(erosion,config='-l eng --oem 3 --psm 10 --dpi 300')\n",
        "                  if(len(out)==0):\n",
        "                      out = ''\n",
        "                      # out = pytesseract.image_to_string(erosion,config='-l eng --oem 3 --psm 10 --dpi 300')\n",
        "                  inner = inner +\" \"+ out\n",
        "              outer.append(inner)\n",
        "\n",
        "  for i in range(len(outer)):\n",
        "      if outer[i] == ' ist\\n\\x0c':\n",
        "          outer[i] = ' 1st\\n\\x0c'\n",
        "      if '40' in outer[i]:\n",
        "        outer[i] = ' 20\\\"/40\\\"\\n\\x0c'\n",
        "      if outer[i] == ' xX\\n\\x0c':\n",
        "          outer[i] = ' X\\n\\x0c'\n",
        "      if outer[i] == ' Oo\\n\\x0c':\n",
        "          outer[i] = ' \\n\\x0c'\n",
        "  return outer"
      ],
      "metadata": {
        "id": "wrwjOWBmBjb7"
      },
      "execution_count": 29,
      "outputs": []
    },
    {
      "cell_type": "code",
      "source": [
        "def generate_csv(outer,row,countcol,csv_path):\n",
        "  arr = np.array(outer)\n",
        "  df = pd.DataFrame(arr.reshape(len(row), countcol))\n",
        "  df.to_csv(csv_path)"
      ],
      "metadata": {
        "id": "1XfTJBDSBtmt"
      },
      "execution_count": 30,
      "outputs": []
    },
    {
      "cell_type": "code",
      "source": [
        "def main(path):\n",
        "  img = read_img(path)\n",
        "  contours,mean,bitnot = imgtocontours(img)\n",
        "  providedCropedImage,bigBox = store_boxes(contours,img)\n",
        "  img = crop_image(bigBox,img)\n",
        "  contours,mean,bitnot = imgtocontours(img)\n",
        "  blackBox = store_blackbox(contours)\n",
        "  img = whitebox(blackBox,img,providedCropedImage)\n",
        "  contours,mean,bitnot = imgtocontours(img)\n",
        "  finalboxes,row,countcol = store(contours,img,mean)\n",
        "  outer = extract_text(finalboxes,bitnot)\n",
        "  print('ocr done.')\n",
        "  csv_path = os.path.splitext(os.path.basename(path))[0] + '.csv'\n",
        "  generate_csv(outer,row,countcol,csv_path)"
      ],
      "metadata": {
        "id": "n4vhtFVCB8wt"
      },
      "execution_count": 31,
      "outputs": []
    },
    {
      "cell_type": "code",
      "source": [
        "path = '/content/2.png'\n",
        "start = time.time()\n",
        "main(path)\n",
        "end = time.time()\n",
        "print(end-start)"
      ],
      "metadata": {
        "id": "Iim8kMHNCIgd"
      },
      "execution_count": null,
      "outputs": []
    },
    {
      "cell_type": "code",
      "source": [
        "# !apt-get install libleptonica-dev libtesseract-dev"
      ],
      "metadata": {
        "id": "Q_eHzn8-yYHV"
      },
      "execution_count": null,
      "outputs": []
    },
    {
      "cell_type": "code",
      "source": [
        "# pip install tesserocr"
      ],
      "metadata": {
        "id": "7Y3JpD0NxMX4"
      },
      "execution_count": null,
      "outputs": []
    },
    {
      "cell_type": "code",
      "source": [
        "# from tesserocr import get_languages\n",
        "\n",
        "# print(get_languages('/usr/share/tesseract-ocr/4.00/tessdata/'))"
      ],
      "metadata": {
        "colab": {
          "base_uri": "https://localhost:8080/"
        },
        "id": "WIOtptz0wzCX",
        "outputId": "d91525e7-94ce-4641-c4b8-927f843e29ef"
      },
      "execution_count": 16,
      "outputs": [
        {
          "output_type": "stream",
          "name": "stdout",
          "text": [
            "('/usr/share/tesseract-ocr/4.00/tessdata/', ['eng'])\n"
          ]
        }
      ]
    },
    {
      "cell_type": "code",
      "source": [
        "# ! wget https://github.com/tesseract-ocr/tessdata_fast/blob/main/eng.traineddata\n",
        "# ! sudo mv \"/content/eng.traineddata\" \"/usr/share/tesseract-ocr/4.00/tessdata\""
      ],
      "metadata": {
        "id": "8n8o4bRfxkRe"
      },
      "execution_count": null,
      "outputs": []
    },
    {
      "cell_type": "code",
      "source": [
        "import tesserocr\n",
        "from PIL import Image\n",
        "\n",
        "image = Image.open('2.png')\n",
        "print(tesserocr.image_to_text(image))"
      ],
      "metadata": {
        "colab": {
          "base_uri": "https://localhost:8080/"
        },
        "id": "jKL35KMnzGG1",
        "outputId": "02baf624-8742-4ee7-d15b-52bcb3537fe2"
      },
      "execution_count": 17,
      "outputs": [
        {
          "output_type": "stream",
          "name": "stdout",
          "text": [
            " \n",
            "\n",
            "TTI EMPTY RECEIVING - Subject to Change\n",
            "\n",
            " \n",
            "\n",
            " \n",
            "\n",
            " \n",
            "\n",
            " \n",
            "\n",
            " \n",
            "\n",
            " \n",
            "\n",
            " \n",
            "\n",
            " \n",
            "\n",
            " \n",
            "\n",
            " \n",
            "\n",
            " \n",
            "\n",
            " \n",
            "\n",
            " \n",
            "\n",
            " \n",
            "\n",
            " \n",
            "\n",
            " \n",
            "\n",
            " \n",
            "\n",
            " \n",
            "\n",
            " \n",
            "\n",
            " \n",
            "\n",
            " \n",
            "\n",
            " \n",
            "\n",
            " \n",
            "\n",
            " \n",
            "\n",
            " \n",
            "\n",
            " \n",
            "\n",
            " \n",
            "\n",
            " \n",
            "\n",
            " \n",
            "\n",
            " \n",
            "\n",
            " \n",
            "\n",
            " \n",
            "\n",
            " \n",
            "\n",
            " \n",
            "\n",
            " \n",
            "\n",
            " \n",
            "\n",
            " \n",
            "\n",
            " \n",
            "\n",
            " \n",
            "\n",
            " \n",
            "\n",
            " \n",
            "\n",
            " \n",
            "\n",
            " \n",
            "\n",
            " \n",
            "\n",
            " \n",
            "\n",
            " \n",
            "\n",
            " \n",
            "\n",
            " \n",
            "\n",
            " \n",
            "\n",
            " \n",
            "\n",
            " \n",
            "\n",
            " \n",
            "\n",
            " \n",
            "\n",
            " \n",
            "\n",
            " \n",
            "\n",
            " \n",
            "\n",
            " \n",
            "\n",
            " \n",
            "\n",
            " \n",
            "\n",
            " \n",
            "\n",
            " \n",
            "\n",
            " \n",
            "\n",
            " \n",
            "\n",
            " \n",
            "\n",
            " \n",
            "\n",
            "famsi2022 | ‘2i1e/2022 | 12/19/2022 | 12/20/2022 | 42/24/2022 | 12/22/2022\n",
            "Ocean Carrier | SIZETYPE |_ Thursday Friday Monday Tuesday | Wednesday | Thursday\n",
            "fst | 2nd | ast [ 2nd [ist] 2nd | ist | 2nd | tst [2nd | ist_[ 2nd\n",
            "20g [UAL | SINGLE DUAL | DUAL [SINGLE [DUAL SINGLE\n",
            "sc Reefer x [Xx x |x Dx] x x\n",
            "Specie [| x | x x Lx Lx Lx x\n",
            "204g [SINGLE [SINGLE SINGLE SINGLE [SINGLE [SINGLE SINGLE\n",
            "* 4% [SNGLE[SINGLE SINGLE [SINGLE [SINGLE | SINGLE SINGLE\n",
            "Reefer _ [SINGLE | SINGLE x x Lx Lx x\n",
            "MAERSK | Speciatyeo | x x x x x x x\n",
            "204g [SINGLE [SINGLE DUAL | DUAD [DUAL | SINGLE SINGLE\n",
            "4% [SNGLE[SINGLE x | x [x Px x\n",
            "Specie [ x |X x Lx Lx Lx x\n",
            "204g [SINGLE [SINGLE x >x fx fx x\n",
            "& x [x x Lx >x x x\n",
            ": Reefer x x x x x x x\n",
            "Specie [| x | x x Lx Lx Lx x\n",
            "204g [SINGLE [SINGLE SINGLE] SINGLE [SINGLE [| DUAL DUAL\n",
            "& x [x x Lx px] x x\n",
            "Reefer x |x x Lx >x x x\n",
            "Specie [| x | x x Lx Lx Lx x\n",
            "2040 x |X x >x fx fx x\n",
            "« & x |x x Lx >x x x\n",
            "ner Reefer x |x x Lx >x x x\n",
            "Specie | x |X x Lx Lx px x\n",
            "\n",
            " \n",
            "\n",
            " \n",
            "\n",
            " \n",
            "\n",
            " \n",
            "\n",
            " \n",
            "\n",
            " \n",
            "\n",
            " \n",
            "\n",
            " \n",
            "\n",
            " \n",
            "\n"
          ]
        }
      ]
    },
    {
      "cell_type": "code",
      "source": [],
      "metadata": {
        "id": "Gn7pvovzzMX8"
      },
      "execution_count": null,
      "outputs": []
    }
  ]
}